{
  "nbformat": 4,
  "nbformat_minor": 0,
  "metadata": {
    "colab": {
      "name": "prueba de una neurona .ipynb",
      "provenance": [],
      "collapsed_sections": [],
      "authorship_tag": "ABX9TyOnPR59PHFflZSV15XVpauL",
      "include_colab_link": true
    },
    "kernelspec": {
      "name": "python3",
      "display_name": "Python 3"
    }
  },
  "cells": [
    {
      "cell_type": "markdown",
      "metadata": {
        "id": "view-in-github",
        "colab_type": "text"
      },
      "source": [
        "<a href=\"https://colab.research.google.com/github/AlfonsoSempoalt/FirstNeuron/blob/master/prueba_de_una_neurona_.ipynb\" target=\"_parent\"><img src=\"https://colab.research.google.com/assets/colab-badge.svg\" alt=\"Open In Colab\"/></a>"
      ]
    },
    {
      "cell_type": "code",
      "metadata": {
        "id": "WKM-9vzaz3uE",
        "colab_type": "code",
        "colab": {}
      },
      "source": [
        "import tensorflow as tf\n",
        "import numpy as np\n",
        "from tensorflow import keras"
      ],
      "execution_count": null,
      "outputs": []
    },
    {
      "cell_type": "code",
      "metadata": {
        "id": "8nmkDEP81xAz",
        "colab_type": "code",
        "colab": {}
      },
      "source": [
        "model= tf.keras.Sequential([keras.layers.Dense(units=1,input_shape=[1])])\n",
        "#se define la red neural, con una capa y una neurona \n",
        "model.compile(optimizer=\"sgd\", loss=\"mean_squared_error\")\n",
        "#se compila usando el optimizador decenso del gradiente y la perdida, las cuales ayudan a conjeturar el patrón a seguir "
      ],
      "execution_count": null,
      "outputs": []
    },
    {
      "cell_type": "code",
      "metadata": {
        "id": "P6oW_RIF2_eg",
        "colab_type": "code",
        "colab": {}
      },
      "source": [
        "#Datos que se utilizan para entrar la red\n",
        "xs=np.array([-1.0,0.0,1.0,2.0,3.0,4.0])\n",
        "ys=np.array([-3.0,-1.0,1.0,3.0,5.0,7.0])"
      ],
      "execution_count": null,
      "outputs": []
    },
    {
      "cell_type": "code",
      "metadata": {
        "id": "1q8Ew41n3iJ6",
        "colab_type": "code",
        "colab": {}
      },
      "source": [
        "#entrenamiento de la red neuronal con 800 epochs \n",
        "model.fit(xs,ys, epochs=800)"
      ],
      "execution_count": null,
      "outputs": []
    },
    {
      "cell_type": "code",
      "metadata": {
        "id": "4IYL2wvm3iNf",
        "colab_type": "code",
        "colab": {
          "base_uri": "https://localhost:8080/",
          "height": 34
        },
        "outputId": "abd6cd6f-e7b5-4c55-9455-a43094ffa781"
      },
      "source": [
        "print(model.predict([10.0]))"
      ],
      "execution_count": null,
      "outputs": [
        {
          "output_type": "stream",
          "text": [
            "[[18.998898]]\n"
          ],
          "name": "stdout"
        }
      ]
    }
  ]
}