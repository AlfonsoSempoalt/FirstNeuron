{
  "nbformat": 4,
  "nbformat_minor": 0,
  "metadata": {
    "colab": {
      "name": "importarMétodoEjemplo.ipynb",
      "provenance": [],
      "mount_file_id": "1tJ6pYxqMXlvvK0ZqNtgSww1YYKfQl7bX",
      "authorship_tag": "ABX9TyMMcIE+YajuT0iV1rX+5OJc",
      "include_colab_link": true
    },
    "kernelspec": {
      "name": "python3",
      "display_name": "Python 3"
    }
  },
  "cells": [
    {
      "cell_type": "markdown",
      "metadata": {
        "id": "view-in-github",
        "colab_type": "text"
      },
      "source": [
        "<a href=\"https://colab.research.google.com/github/AlfonsoSempoalt/FirstNeuron/blob/master/importarM%C3%A9todoEjemplo.ipynb\" target=\"_parent\"><img src=\"https://colab.research.google.com/assets/colab-badge.svg\" alt=\"Open In Colab\"/></a>"
      ]
    },
    {
      "cell_type": "markdown",
      "metadata": {
        "id": "_FKNOJo3bTQ1",
        "colab_type": "text"
      },
      "source": [
        "##Guardar un modelo \n",
        "\n",
        "saved_model_path = \"./my_model.h5\".  or you can simply use 'my_mode.h5'\n",
        "model.save(saved_model_path)\n",
        "\n",
        "##Importar el modelo \n",
        "\n",
        "model = keras.models.load_model(saved_model_path)"
      ]
    },
    {
      "cell_type": "code",
      "metadata": {
        "id": "MWuAPHNIWOdx",
        "colab_type": "code",
        "colab": {}
      },
      "source": [
        "import tensorflow as tf\n",
        "import numpy as np\n",
        "from tensorflow import keras"
      ],
      "execution_count": 27,
      "outputs": []
    },
    {
      "cell_type": "code",
      "metadata": {
        "id": "SeBGiqAaY8LK",
        "colab_type": "code",
        "colab": {
          "base_uri": "https://localhost:8080/",
          "height": 68
        },
        "outputId": "a99b5f7f-1bed-4f2a-8488-0aab99bc75a2"
      },
      "source": [
        "%ls\n",
        "#%cd drive/MyDrive/Coursera/ ruta de ubicación del modelo en google drive"
      ],
      "execution_count": 41,
      "outputs": [
        {
          "output_type": "stream",
          "text": [
            "\u001b[0m\u001b[01;34m'GCP foundations'\u001b[0m/   prueba.h5\n",
            "[Errno 2] No such file or directory: 'drive/MyDrive/Coursera/'\n",
            "/content/drive/My Drive/Coursera\n"
          ],
          "name": "stdout"
        }
      ]
    },
    {
      "cell_type": "code",
      "metadata": {
        "id": "pz-H1nVHVHu8",
        "colab_type": "code",
        "colab": {
          "base_uri": "https://localhost:8080/",
          "height": 34
        },
        "outputId": "c52d2613-f51b-4d56-96b4-00f6f1edb219"
      },
      "source": [
        "\n",
        "#saved_model_path = \"./my_model.h5\". # or you can simply use 'my_mode.h5'\n",
        "#model.save(saved_model_path\n",
        "#model = keras.models.load_model(saved_model_path)\n",
        "model = keras.models.load_model(\"prueba.h5\")\n",
        "model.predict([25.0])"
      ],
      "execution_count": 34,
      "outputs": [
        {
          "output_type": "execute_result",
          "data": {
            "text/plain": [
              "array([[48.997776]], dtype=float32)"
            ]
          },
          "metadata": {
            "tags": []
          },
          "execution_count": 34
        }
      ]
    }
  ]
}